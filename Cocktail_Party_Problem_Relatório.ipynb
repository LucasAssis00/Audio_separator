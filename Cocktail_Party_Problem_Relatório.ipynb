{
  "nbformat": 4,
  "nbformat_minor": 0,
  "metadata": {
    "colab": {
      "provenance": []
    },
    "kernelspec": {
      "name": "python3",
      "display_name": "Python 3"
    },
    "language_info": {
      "name": "python"
    }
  },
  "cells": [
    {
      "cell_type": "code",
      "execution_count": null,
      "metadata": {
        "id": "bieClFxfFOeP"
      },
      "outputs": [],
      "source": [
        "import numpy as np\n",
        "import wave\n",
        "import warnings\n",
        "import matplotlib.pyplot as plt\n",
        "from sklearn.decomposition import FastICA\n",
        "from scipy.io import wavfile\n",
        "\n",
        "%matplotlib inline\n",
        "\n",
        "warnings.filterwarnings('ignore')"
      ]
    },
    {
      "cell_type": "code",
      "source": [
        "# open and read wav files\n",
        "mix_wave_1 = wave.open('contagem_sep1.wav', 'r')\n",
        "mix_wave_2 = wave.open('contagem_sep2.wav', 'r')\n",
        "mix_wave_3 = wave.open('contagem_sep3.wav', 'r')"
      ],
      "metadata": {
        "id": "2r4uHSNFFXu6"
      },
      "execution_count": null,
      "outputs": []
    },
    {
      "cell_type": "code",
      "source": [
        "# get parameters of wav file\n",
        "mix_wave_1.getparams()"
      ],
      "metadata": {
        "id": "qyEFfP6iFXsl"
      },
      "execution_count": null,
      "outputs": []
    },
    {
      "cell_type": "code",
      "source": [
        "# get length of wav file in seconds\n",
        "len_of_file = mix_wave_1.getparams().nframes/48000 # nframes / framerate\n",
        "print(f\"length of file in seconds : {len_of_file}\")"
      ],
      "metadata": {
        "id": "lxV_qf0gFXqG"
      },
      "execution_count": null,
      "outputs": []
    },
    {
      "cell_type": "code",
      "source": [
        "# extract number of frames\n",
        "def extract_frames(file):\n",
        "  signal_raw = file.readframes(-1)\n",
        "  signal = np.fromstring(signal_raw, dtype=np.short)\n",
        "  return signal"
      ],
      "metadata": {
        "id": "N7aJiG4-FXnm"
      },
      "execution_count": null,
      "outputs": []
    },
    {
      "cell_type": "code",
      "source": [
        "signal_1 = extract_frames(mix_wave_1)\n",
        "signal_2 = extract_frames(mix_wave_2)\n",
        "signal_3 = extract_frames(mix_wave_3)"
      ],
      "metadata": {
        "id": "oBLcvptfFXlJ"
      },
      "execution_count": null,
      "outputs": []
    },
    {
      "cell_type": "code",
      "source": [
        "len_of_signal_1 = len(signal_1)\n",
        "print(f\"length : {len_of_signal_1}\")"
      ],
      "metadata": {
        "id": "N0SUyyMiFXiu"
      },
      "execution_count": null,
      "outputs": []
    },
    {
      "cell_type": "code",
      "source": [
        "# get timing of signal_1\n",
        "def get_timing(file, signal):\n",
        "  fs = file.getframerate()\n",
        "  timing = np.linspace(0, len(signal)/fs, num=len(signal))\n",
        "  return timing"
      ],
      "metadata": {
        "id": "iZPP7caJFXgW"
      },
      "execution_count": null,
      "outputs": []
    },
    {
      "cell_type": "code",
      "source": [
        "timing_1 = get_timing(mix_wave_1, signal_1)\n",
        "timing_2 = get_timing(mix_wave_2, signal_2)\n",
        "timing_3 = get_timing(mix_wave_3, signal_3)"
      ],
      "metadata": {
        "id": "dgVkwL2gFXeO"
      },
      "execution_count": null,
      "outputs": []
    },
    {
      "cell_type": "code",
      "source": [
        "def plot_wave(timing, signal, title):\n",
        "  plt.figure(figsize=(12 ,2))\n",
        "  plt.title(title)\n",
        "  plt.plot(timing, signal)\n",
        "  plt.show()"
      ],
      "metadata": {
        "id": "JieSLvZBFXbk"
      },
      "execution_count": null,
      "outputs": []
    },
    {
      "cell_type": "code",
      "source": [
        "plot_wave(timing_1, signal_1, 'Recording 1')\n",
        "plot_wave(timing_2, signal_2, \"Recording 2\")\n",
        "plot_wave(timing_3, signal_3, \"Recording 3\")"
      ],
      "metadata": {
        "id": "DqP2gRwJFXZC"
      },
      "execution_count": null,
      "outputs": []
    },
    {
      "cell_type": "code",
      "source": [
        "# zip all the signal into single list\n",
        "data =  list(zip(signal_1, signal_2, signal_3))"
      ],
      "metadata": {
        "id": "3k0hfFK2GsMQ"
      },
      "execution_count": null,
      "outputs": []
    },
    {
      "cell_type": "code",
      "source": [
        "# see what data looks like\n",
        "data[:10]"
      ],
      "metadata": {
        "id": "OTzawmDBGsJn"
      },
      "execution_count": null,
      "outputs": []
    },
    {
      "cell_type": "code",
      "source": [
        "# initialise FastICA and fit and transform data\n",
        "fastica = FastICA(n_components=3)\n",
        "#fastica = FastICA(n_components=2)\n",
        "ica_result = fastica.fit_transform(data)"
      ],
      "metadata": {
        "id": "b3AjvcdRGsHG"
      },
      "execution_count": null,
      "outputs": []
    },
    {
      "cell_type": "code",
      "source": [
        "# print the shape of result\n",
        "ica_result.shape"
      ],
      "metadata": {
        "id": "FyxbWY5TGsFB"
      },
      "execution_count": null,
      "outputs": []
    },
    {
      "cell_type": "code",
      "source": [
        "# split signals\n",
        "result_signal_1 = ica_result[:, 0]\n",
        "result_signal_2 = ica_result[:, 1]\n",
        "result_signal_3 = ica_result[:, 2]"
      ],
      "metadata": {
        "id": "2n2VhT1NGsA2"
      },
      "execution_count": null,
      "outputs": []
    },
    {
      "cell_type": "code",
      "source": [
        "# function to plot individual components\n",
        "def plot_result_signal(result_signal, title):\n",
        "  plt.figure(figsize=(12, 2))\n",
        "  plt.title(title)\n",
        "  plt.plot(result_signal)\n",
        "  plt.ylim(-0.010, 0.010)\n",
        "  plt.show()"
      ],
      "metadata": {
        "id": "qNB5G_-2Gr8g"
      },
      "execution_count": null,
      "outputs": []
    },
    {
      "cell_type": "code",
      "source": [
        "plot_result_signal(result_signal_1, \"Independent component 1\")\n",
        "plot_result_signal(result_signal_2, \"Independent component 2\")\n",
        "plot_result_signal(result_signal_3, \"Independent component 2\")"
      ],
      "metadata": {
        "id": "40BzXpK-Gr12"
      },
      "execution_count": null,
      "outputs": []
    },
    {
      "cell_type": "code",
      "source": [
        "# convert signal to int16\n",
        "def convert_to_int16(result_signal, fs, filename):\n",
        "  result_signal_int = np.short(result_signal * 32767 * 100)\n",
        "  wavfile.write(filename, fs, result_signal_int)"
      ],
      "metadata": {
        "id": "kDIiq4I2Grzn"
      },
      "execution_count": null,
      "outputs": []
    },
    {
      "cell_type": "code",
      "source": [
        "# get framerate\n",
        "fs_1 = mix_wave_1.getframerate()\n",
        "fs_2 = mix_wave_2.getframerate()\n",
        "fs_3 = mix_wave_3.getframerate()"
      ],
      "metadata": {
        "id": "jr6YyZ9uG7yy"
      },
      "execution_count": null,
      "outputs": []
    },
    {
      "cell_type": "code",
      "source": [
        "# convert back to wav\n",
        "convert_to_int16(result_signal_1, fs_1, \"contagem_separado1.wav\")\n",
        "convert_to_int16(result_signal_2, fs_2, \"contagem_separado2.wav\")\n",
        "convert_to_int16(result_signal_3, fs_2, \"contagem_separado3.wav\")"
      ],
      "metadata": {
        "id": "ZnOFw59cG7v-"
      },
      "execution_count": null,
      "outputs": []
    }
  ]
}